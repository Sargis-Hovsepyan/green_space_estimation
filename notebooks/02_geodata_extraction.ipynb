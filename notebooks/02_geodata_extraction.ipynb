{
 "cells": [
  {
   "cell_type": "code",
   "execution_count": 226,
   "id": "98f9e9fd",
   "metadata": {},
   "outputs": [],
   "source": [
    "import os\n",
    "\n",
    "import rasterio\n",
    "import osmnx as ox\n",
    "\n",
    "import pandas as pd\n",
    "import geopandas as gpd\n",
    "\n",
    "import positron as pt\n",
    "\n",
    "from shapely.geometry import box\n",
    "from shapely.geometry import Polygon, LineString, MultiLineString\n",
    "\n",
    "pd.set_option('display.max_columns', None)"
   ]
  },
  {
   "cell_type": "code",
   "execution_count": 227,
   "id": "83b39d82",
   "metadata": {},
   "outputs": [],
   "source": [
    "import warnings\n",
    "warnings.filterwarnings('ignore')"
   ]
  },
  {
   "cell_type": "markdown",
   "id": "054ca955",
   "metadata": {},
   "source": [
    "## 1. Building & Park Extraction"
   ]
  },
  {
   "cell_type": "code",
   "execution_count": null,
   "id": "ec0f1e6d",
   "metadata": {},
   "outputs": [],
   "source": [
    "grid = gpd.read_file('../data/yerevan_grid.geojson')"
   ]
  },
  {
   "cell_type": "code",
   "execution_count": 77,
   "id": "b954952e",
   "metadata": {},
   "outputs": [
    {
     "name": "stderr",
     "output_type": "stream",
     "text": [
      "C:\\Users\\Lenovo\\AppData\\Local\\Temp\\ipykernel_6148\\3478568444.py:3: FutureWarning: The `geometries` module and `geometries_from_X` functions have been renamed the `features` module and `features_from_X` functions. Use these instead. The `geometries` module and function names are deprecated and will be removed in the v2.0.0 release. See the OSMnx v2 migration guide: https://github.com/gboeing/osmnx/issues/1123\n",
      "  buildings = ox.geometries_from_place(\n",
      "C:\\Users\\Lenovo\\AppData\\Local\\Temp\\ipykernel_6148\\3478568444.py:8: FutureWarning: The `geometries` module and `geometries_from_X` functions have been renamed the `features` module and `features_from_X` functions. Use these instead. The `geometries` module and function names are deprecated and will be removed in the v2.0.0 release. See the OSMnx v2 migration guide: https://github.com/gboeing/osmnx/issues/1123\n",
      "  parks = ox.geometries_from_place(\n"
     ]
    }
   ],
   "source": [
    "place_name = \"Yerevan, Armenia\"\n",
    "\n",
    "buildings = ox.geometries_from_place(\n",
    "    place_name,\n",
    "    tags={'building': True}\n",
    ")\n",
    "\n",
    "parks = ox.geometries_from_place(\n",
    "    place_name, \n",
    "    tags={\"leisure\": [\"park\", \"garden\", \"recreation_ground\", \"amusement_park\"]}\n",
    ")\n",
    "\n",
    "buildings = buildings.to_crs(epsg=4326)\n",
    "buildings.reset_index(inplace=True)\n",
    "\n",
    "parks = parks.to_crs(epsg=4326)\n",
    "parks.reset_index(inplace=True)"
   ]
  },
  {
   "cell_type": "code",
   "execution_count": null,
   "id": "70493e7c",
   "metadata": {},
   "outputs": [],
   "source": [
    "buildings = buildings.sjoin(grid[['geometry']], predicate='intersects')\n",
    "\n",
    "buildings = buildings[[\n",
    "    'osmid', 'name', 'name:en', 'building',\n",
    "    'addr:country', 'addr:city', 'addr:district', 'addr:region', 'addr:housenumber', 'addr:postcode', 'addr:street', \n",
    "    'check_date', 'geometry'\n",
    "]]\n",
    "\n",
    "buildings.drop_duplicates(inplace=True)"
   ]
  },
  {
   "cell_type": "code",
   "execution_count": 79,
   "id": "1758f62d",
   "metadata": {},
   "outputs": [],
   "source": [
    "parks = parks.sjoin(grid[['geometry']], predicate='intersects')\n",
    "\n",
    "parks = parks[[\n",
    "    'osmid', 'name', 'name:en', 'old_name', 'leisure',\n",
    "    'addr:country', 'addr:city', 'addr:housenumber', 'addr:postcode', 'addr:street',\n",
    "    'check_date', 'geometry'\n",
    "]]\n",
    "\n",
    "parks.drop_duplicates(inplace=True)"
   ]
  },
  {
   "cell_type": "code",
   "execution_count": null,
   "id": "515cd811",
   "metadata": {},
   "outputs": [],
   "source": [
    "buildings.to_file(\"../data/yerevan_buildings.geojson\", driver=\"GeoJSON\")\n",
    "parks.to_file(\"../data/yerevan_parks.geojson\", driver=\"GeoJSON\")"
   ]
  },
  {
   "cell_type": "markdown",
   "id": "4b556292",
   "metadata": {},
   "source": [
    "## 2. Adding the Image ID to Buildings"
   ]
  },
  {
   "cell_type": "code",
   "execution_count": null,
   "id": "d262fa2f",
   "metadata": {},
   "outputs": [],
   "source": [
    "buildings = gpd.read_file(\"../data/yerevan_buildings.geojson\")"
   ]
  },
  {
   "cell_type": "code",
   "execution_count": 89,
   "id": "1a942c49",
   "metadata": {},
   "outputs": [],
   "source": [
    "def assign_img_id_to_buildings_from_images(image_folder, buildings_gdf):\n",
    "    \"\"\"\n",
    "    Reads all georeferenced .tif images in a folder, finds buildings that intersect with each image,\n",
    "    and assigns the image index (img_id) from the filename to those buildings.\n",
    "\n",
    "    Parameters:\n",
    "    - image_folder: str, path to folder containing .tif files named like {index}.tif\n",
    "    - buildings_gdf: GeoDataFrame with building geometries in EPSG:4326\n",
    "\n",
    "    Returns:\n",
    "    - GeoDataFrame of buildings with an added 'img_id' column\n",
    "    \"\"\"\n",
    "    assigned_buildings = []\n",
    "\n",
    "    for filename in os.listdir(image_folder):\n",
    "        if filename.endswith(\".tif\"):\n",
    "            tile_index = int(os.path.splitext(filename)[0])\n",
    "            img_path = os.path.join(image_folder, filename)\n",
    "\n",
    "            with rasterio.open(img_path) as src:\n",
    "                bounds = src.bounds\n",
    "                img_crs = src.crs\n",
    "                img_geom = box(*bounds)\n",
    "                img_gdf = gpd.GeoDataFrame({'geometry': [img_geom]}, crs=img_crs)\n",
    "\n",
    "            # Reproject buildings if needed\n",
    "            if buildings_gdf.crs != img_crs:\n",
    "                buildings_proj = buildings_gdf.to_crs(img_crs)\n",
    "            else:\n",
    "                buildings_proj = buildings_gdf\n",
    "\n",
    "            # Select buildings that intersect the image extent\n",
    "            buildings_in_tile = buildings_proj[buildings_proj.intersects(img_geom)].copy()\n",
    "            if not buildings_in_tile.empty:\n",
    "                buildings_in_tile['img_id'] = tile_index\n",
    "                assigned_buildings.append(buildings_in_tile)\n",
    "\n",
    "    # Combine all assigned buildings\n",
    "    combined_gdf = gpd.GeoDataFrame(pd.concat(assigned_buildings, ignore_index=True), crs=buildings_gdf.crs)\n",
    "\n",
    "    return combined_gdf"
   ]
  },
  {
   "cell_type": "code",
   "execution_count": 90,
   "id": "cabba8da",
   "metadata": {},
   "outputs": [],
   "source": [
    "image_folder = \"georeferenced_images\"\n",
    "buildings = assign_img_id_to_buildings_from_images(image_folder, buildings)"
   ]
  },
  {
   "cell_type": "code",
   "execution_count": null,
   "id": "64a1ba35",
   "metadata": {},
   "outputs": [],
   "source": [
    "buildings.to_file(\"../data/yerevan_buildings.geojson\", driver=\"GeoJSON\")"
   ]
  },
  {
   "cell_type": "markdown",
   "id": "f78ba233",
   "metadata": {},
   "source": [
    "## 3. Cleaning Buildings"
   ]
  },
  {
   "cell_type": "code",
   "execution_count": null,
   "id": "d72d1aae",
   "metadata": {},
   "outputs": [],
   "source": [
    "buildings = gpd.read_file(\"../data/yerevan_buildings.geojson\")"
   ]
  },
  {
   "cell_type": "code",
   "execution_count": 93,
   "id": "d368e441",
   "metadata": {},
   "outputs": [
    {
     "data": {
      "text/plain": [
       "Index(['osmid', 'name', 'name:en', 'building', 'addr:country', 'addr:city',\n",
       "       'addr:district', 'addr:region', 'addr:housenumber', 'addr:postcode',\n",
       "       'addr:street', 'check_date', 'amenity', 'shop', 'img_id', 'geometry'],\n",
       "      dtype='object')"
      ]
     },
     "execution_count": 93,
     "metadata": {},
     "output_type": "execute_result"
    }
   ],
   "source": [
    "buildings.columns"
   ]
  },
  {
   "cell_type": "code",
   "execution_count": 94,
   "id": "820a6ec7",
   "metadata": {},
   "outputs": [],
   "source": [
    "buildings = buildings[buildings['building'].isin(['yes', 'apartments', 'house'])]\n",
    "\n",
    "buildings = buildings[buildings['amenity'].isna()]\n",
    "buildings = buildings[buildings['shop'].isna()]"
   ]
  },
  {
   "cell_type": "code",
   "execution_count": null,
   "id": "f6b74513",
   "metadata": {},
   "outputs": [],
   "source": [
    "buildings.to_file('../data/yerevan_buildings_clean.geojson', driver='GeoJSON')"
   ]
  },
  {
   "cell_type": "markdown",
   "id": "b6c1ab28",
   "metadata": {},
   "source": [
    "## 4. Extracting Districts"
   ]
  },
  {
   "cell_type": "code",
   "execution_count": null,
   "id": "28a50417",
   "metadata": {},
   "outputs": [],
   "source": [
    "yerevan = gpd.read_file('../data/yerevan_boundary/yerevan.shp')"
   ]
  },
  {
   "cell_type": "code",
   "execution_count": 214,
   "id": "8d391285",
   "metadata": {},
   "outputs": [],
   "source": [
    "yerevan = yerevan.unary_union\n",
    "yerevan = gpd.GeoDataFrame(geometry=[yerevan], crs='EPSG:4326')"
   ]
  },
  {
   "cell_type": "code",
   "execution_count": 215,
   "id": "22aec8dc",
   "metadata": {},
   "outputs": [],
   "source": [
    "yerevan = pt.apply_buffer(yerevan, buffer=50, geom_col='geometry', drop_geometry=True)\n",
    "\n",
    "yerevan.rename(columns={'geometry_buffered':'geometry'}, inplace=True)\n",
    "yerevan.set_geometry('geometry', inplace=True)"
   ]
  },
  {
   "cell_type": "code",
   "execution_count": 216,
   "id": "e9c47808",
   "metadata": {},
   "outputs": [
    {
     "data": {
      "text/plain": [
       "<Axes: >"
      ]
     },
     "execution_count": 216,
     "metadata": {},
     "output_type": "execute_result"
    },
    {
     "data": {
      "image/png": "[encoded data removed]",
      "text/plain": [
       "<Figure size 640x480 with 1 Axes>"
      ]
     },
     "metadata": {},
     "output_type": "display_data"
    }
   ],
   "source": [
    "yerevan.plot()"
   ]
  },
  {
   "cell_type": "code",
   "execution_count": 217,
   "id": "81faead8",
   "metadata": {},
   "outputs": [],
   "source": [
    "districts = ox.geometries_from_polygon(\n",
    "    yerevan['geometry'][0],\n",
    "    tags={\"admin_level\": \"8\", \"boundary\": \"administrative\"}\n",
    ")\n",
    "\n",
    "districts.reset_index(inplace=True)\n",
    "districts = districts[['name', 'geometry']]"
   ]
  },
  {
   "cell_type": "code",
   "execution_count": null,
   "id": "9fbdd6d3",
   "metadata": {},
   "outputs": [],
   "source": [
    "districts = districts[districts['name'].isin([\n",
    "    'Նուբարաշեն', 'Շենգավիթ', 'Էրեբունի', 'Նորք Մարաշ', 'Կենտրոն',\n",
    "    'Մալաթիա-Սեբաստիա', 'Նոր Նորք', 'Ավան', 'Քանաքեռ-Զեյթուն',\n",
    "    'Աջափնյակ', 'Դավթաշեն', 'Արաբկիր'\n",
    "])]\n",
    "\n",
    "districts['name'] = [\n",
    "    'Nubarashen', 'Shengavit', 'Erebuni', 'Norq Marash', 'Kentron',\n",
    "    'Malatia-Sebastia', 'Nor Norq', 'Avan', 'Qanaqer-Zeytun',\n",
    "    'Arabkir', 'Davtashen', 'Ajapnyak'\n",
    "]\n",
    "\n",
    "districts.reset_index(drop=True, inplace=True)"
   ]
  },
  {
   "cell_type": "code",
   "execution_count": 233,
   "id": "80d406df",
   "metadata": {},
   "outputs": [
    {
     "data": {
      "text/html": [
       "<div>\n",
       "<style scoped>\n",
       "    .dataframe tbody tr th:only-of-type {\n",
       "        vertical-align: middle;\n",
       "    }\n",
       "\n",
       "    .dataframe tbody tr th {\n",
       "        vertical-align: top;\n",
       "    }\n",
       "\n",
       "    .dataframe thead th {\n",
       "        text-align: right;\n",
       "    }\n",
       "</style>\n",
       "<table border=\"1\" class=\"dataframe\">\n",
       "  <thead>\n",
       "    <tr style=\"text-align: right;\">\n",
       "      <th></th>\n",
       "      <th>name</th>\n",
       "      <th>geometry</th>\n",
       "    </tr>\n",
       "  </thead>\n",
       "  <tbody>\n",
       "    <tr>\n",
       "      <th>0</th>\n",
       "      <td>Nubarashen</td>\n",
       "      <td>POLYGON ((44.50691 40.08680, 44.50906 40.08661...</td>\n",
       "    </tr>\n",
       "    <tr>\n",
       "      <th>1</th>\n",
       "      <td>Shengavit</td>\n",
       "      <td>POLYGON ((44.42506 40.13095, 44.42834 40.13088...</td>\n",
       "    </tr>\n",
       "    <tr>\n",
       "      <th>2</th>\n",
       "      <td>Erebuni</td>\n",
       "      <td>POLYGON ((44.50819 40.16315, 44.50926 40.16314...</td>\n",
       "    </tr>\n",
       "    <tr>\n",
       "      <th>3</th>\n",
       "      <td>Norq Marash</td>\n",
       "      <td>POLYGON ((44.52546 40.16819, 44.52557 40.16826...</td>\n",
       "    </tr>\n",
       "    <tr>\n",
       "      <th>4</th>\n",
       "      <td>Kentron</td>\n",
       "      <td>POLYGON ((44.47919 40.18724, 44.47949 40.18728...</td>\n",
       "    </tr>\n",
       "    <tr>\n",
       "      <th>5</th>\n",
       "      <td>Malatia-Sebastia</td>\n",
       "      <td>MULTIPOLYGON (((44.36211 40.14670, 44.36211 40...</td>\n",
       "    </tr>\n",
       "    <tr>\n",
       "      <th>6</th>\n",
       "      <td>Nor Norq</td>\n",
       "      <td>POLYGON ((44.54182 40.16598, 44.54173 40.16624...</td>\n",
       "    </tr>\n",
       "    <tr>\n",
       "      <th>7</th>\n",
       "      <td>Avan</td>\n",
       "      <td>POLYGON ((44.55966 40.23611, 44.56422 40.23812...</td>\n",
       "    </tr>\n",
       "    <tr>\n",
       "      <th>8</th>\n",
       "      <td>Qanaqer-Zeytun</td>\n",
       "      <td>POLYGON ((44.51651 40.19559, 44.51664 40.19577...</td>\n",
       "    </tr>\n",
       "    <tr>\n",
       "      <th>9</th>\n",
       "      <td>Arabkir</td>\n",
       "      <td>POLYGON ((44.48259 40.19145, 44.48191 40.19234...</td>\n",
       "    </tr>\n",
       "    <tr>\n",
       "      <th>10</th>\n",
       "      <td>Davtashen</td>\n",
       "      <td>POLYGON ((44.45250 40.22441, 44.45343 40.22541...</td>\n",
       "    </tr>\n",
       "    <tr>\n",
       "      <th>11</th>\n",
       "      <td>Ajapnyak</td>\n",
       "      <td>POLYGON ((44.39483 40.21731, 44.39653 40.22179...</td>\n",
       "    </tr>\n",
       "  </tbody>\n",
       "</table>\n",
       "</div>"
      ],
      "text/plain": [
       "                name                                           geometry\n",
       "0         Nubarashen  POLYGON ((44.50691 40.08680, 44.50906 40.08661...\n",
       "1          Shengavit  POLYGON ((44.42506 40.13095, 44.42834 40.13088...\n",
       "2            Erebuni  POLYGON ((44.50819 40.16315, 44.50926 40.16314...\n",
       "3        Norq Marash  POLYGON ((44.52546 40.16819, 44.52557 40.16826...\n",
       "4            Kentron  POLYGON ((44.47919 40.18724, 44.47949 40.18728...\n",
       "5   Malatia-Sebastia  MULTIPOLYGON (((44.36211 40.14670, 44.36211 40...\n",
       "6           Nor Norq  POLYGON ((44.54182 40.16598, 44.54173 40.16624...\n",
       "7               Avan  POLYGON ((44.55966 40.23611, 44.56422 40.23812...\n",
       "8     Qanaqer-Zeytun  POLYGON ((44.51651 40.19559, 44.51664 40.19577...\n",
       "9            Arabkir  POLYGON ((44.48259 40.19145, 44.48191 40.19234...\n",
       "10         Davtashen  POLYGON ((44.45250 40.22441, 44.45343 40.22541...\n",
       "11          Ajapnyak  POLYGON ((44.39483 40.21731, 44.39653 40.22179..."
      ]
     },
     "execution_count": 233,
     "metadata": {},
     "output_type": "execute_result"
    }
   ],
   "source": [
    "districts"
   ]
  },
  {
   "cell_type": "code",
   "execution_count": null,
   "id": "5f77845b",
   "metadata": {},
   "outputs": [],
   "source": [
    "districts.to_file('../data/yerevan_districts.geojson')"
   ]
  },
  {
   "cell_type": "code",
   "execution_count": null,
   "id": "36183845",
   "metadata": {},
   "outputs": [],
   "source": []
  }
 ],
 "metadata": {
  "kernelspec": {
   "display_name": "Python 3",
   "language": "python",
   "name": "python3"
  },
  "language_info": {
   "codemirror_mode": {
    "name": "ipython",
    "version": 3
   },
   "file_extension": ".py",
   "mimetype": "text/x-python",
   "name": "python",
   "nbconvert_exporter": "python",
   "pygments_lexer": "ipython3",
   "version": "3.11.9"
  }
 },
 "nbformat": 4,
 "nbformat_minor": 5
}
