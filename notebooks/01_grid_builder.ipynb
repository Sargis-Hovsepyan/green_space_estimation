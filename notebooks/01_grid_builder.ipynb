{
 "cells": [
  {
   "cell_type": "code",
   "execution_count": 1,
   "id": "5f5b84fc-4500-4dc8-9adc-65ce68d5e700",
   "metadata": {},
   "outputs": [],
   "source": [
    "import math\n",
    "\n",
    "import osmnx as ox\n",
    "import networkx as nx\n",
    "\n",
    "import pandas as pd\n",
    "import geopandas as gpd\n",
    "\n",
    "import matplotlib.pyplot as plt  \n",
    "\n",
    "from shapely.geometry import box\n",
    "from geopy.distance import distance"
   ]
  },
  {
   "cell_type": "code",
   "execution_count": null,
   "id": "7f0b08c3",
   "metadata": {},
   "outputs": [],
   "source": [
    "df=gpd.read_file(r\"../data/yerevan_boundary/yerevan.shp\")"
   ]
  },
  {
   "cell_type": "code",
   "execution_count": 4,
   "id": "a56defe9",
   "metadata": {},
   "outputs": [
    {
     "data": {
      "text/html": [
       "<div>\n",
       "<style scoped>\n",
       "    .dataframe tbody tr th:only-of-type {\n",
       "        vertical-align: middle;\n",
       "    }\n",
       "\n",
       "    .dataframe tbody tr th {\n",
       "        vertical-align: top;\n",
       "    }\n",
       "\n",
       "    .dataframe thead th {\n",
       "        text-align: right;\n",
       "    }\n",
       "</style>\n",
       "<table border=\"1\" class=\"dataframe\">\n",
       "  <thead>\n",
       "    <tr style=\"text-align: right;\">\n",
       "      <th></th>\n",
       "      <th>FID</th>\n",
       "      <th>geometry</th>\n",
       "    </tr>\n",
       "  </thead>\n",
       "  <tbody>\n",
       "    <tr>\n",
       "      <th>0</th>\n",
       "      <td>0</td>\n",
       "      <td>POLYGON ((44.41298 40.18969, 44.41155 40.19399...</td>\n",
       "    </tr>\n",
       "    <tr>\n",
       "      <th>1</th>\n",
       "      <td>1</td>\n",
       "      <td>POLYGON ((44.41772 40.18316, 44.41418 40.18603...</td>\n",
       "    </tr>\n",
       "    <tr>\n",
       "      <th>2</th>\n",
       "      <td>2</td>\n",
       "      <td>POLYGON ((44.42035 40.18107, 44.42025 40.18110...</td>\n",
       "    </tr>\n",
       "    <tr>\n",
       "      <th>3</th>\n",
       "      <td>3</td>\n",
       "      <td>POLYGON ((44.42598 40.17664, 44.42576 40.17920...</td>\n",
       "    </tr>\n",
       "    <tr>\n",
       "      <th>4</th>\n",
       "      <td>4</td>\n",
       "      <td>POLYGON ((44.42652 40.17009, 44.42598 40.17664...</td>\n",
       "    </tr>\n",
       "    <tr>\n",
       "      <th>...</th>\n",
       "      <td>...</td>\n",
       "      <td>...</td>\n",
       "    </tr>\n",
       "    <tr>\n",
       "      <th>544</th>\n",
       "      <td>544</td>\n",
       "      <td>POLYGON ((44.57644 40.20351, 44.58512 40.20354...</td>\n",
       "    </tr>\n",
       "    <tr>\n",
       "      <th>545</th>\n",
       "      <td>545</td>\n",
       "      <td>POLYGON ((44.57648 40.19696, 44.58516 40.19699...</td>\n",
       "    </tr>\n",
       "    <tr>\n",
       "      <th>546</th>\n",
       "      <td>546</td>\n",
       "      <td>POLYGON ((44.57652 40.19040, 44.58520 40.19043...</td>\n",
       "    </tr>\n",
       "    <tr>\n",
       "      <th>547</th>\n",
       "      <td>547</td>\n",
       "      <td>POLYGON ((44.57656 40.18385, 44.58524 40.18388...</td>\n",
       "    </tr>\n",
       "    <tr>\n",
       "      <th>548</th>\n",
       "      <td>548</td>\n",
       "      <td>POLYGON ((44.57660 40.17729, 44.58528 40.17732...</td>\n",
       "    </tr>\n",
       "  </tbody>\n",
       "</table>\n",
       "<p>549 rows × 2 columns</p>\n",
       "</div>"
      ],
      "text/plain": [
       "     FID                                           geometry\n",
       "0      0  POLYGON ((44.41298 40.18969, 44.41155 40.19399...\n",
       "1      1  POLYGON ((44.41772 40.18316, 44.41418 40.18603...\n",
       "2      2  POLYGON ((44.42035 40.18107, 44.42025 40.18110...\n",
       "3      3  POLYGON ((44.42598 40.17664, 44.42576 40.17920...\n",
       "4      4  POLYGON ((44.42652 40.17009, 44.42598 40.17664...\n",
       "..   ...                                                ...\n",
       "544  544  POLYGON ((44.57644 40.20351, 44.58512 40.20354...\n",
       "545  545  POLYGON ((44.57648 40.19696, 44.58516 40.19699...\n",
       "546  546  POLYGON ((44.57652 40.19040, 44.58520 40.19043...\n",
       "547  547  POLYGON ((44.57656 40.18385, 44.58524 40.18388...\n",
       "548  548  POLYGON ((44.57660 40.17729, 44.58528 40.17732...\n",
       "\n",
       "[549 rows x 2 columns]"
      ]
     },
     "execution_count": 4,
     "metadata": {},
     "output_type": "execute_result"
    }
   ],
   "source": [
    "df.set_crs(epsg=4326, inplace=True)"
   ]
  },
  {
   "cell_type": "code",
   "execution_count": 7,
   "id": "3df5b716",
   "metadata": {},
   "outputs": [],
   "source": [
    "df['dummy'] = 1\n",
    "\n",
    "# Dissolve all polygons into a single polygon\n",
    "df = df.dissolve(by='dummy')"
   ]
  },
  {
   "cell_type": "code",
   "execution_count": 8,
   "id": "d31aff4b",
   "metadata": {},
   "outputs": [
    {
     "data": {
      "text/html": [
       "<div>\n",
       "<style scoped>\n",
       "    .dataframe tbody tr th:only-of-type {\n",
       "        vertical-align: middle;\n",
       "    }\n",
       "\n",
       "    .dataframe tbody tr th {\n",
       "        vertical-align: top;\n",
       "    }\n",
       "\n",
       "    .dataframe thead th {\n",
       "        text-align: right;\n",
       "    }\n",
       "</style>\n",
       "<table border=\"1\" class=\"dataframe\">\n",
       "  <thead>\n",
       "    <tr style=\"text-align: right;\">\n",
       "      <th></th>\n",
       "      <th>geometry</th>\n",
       "      <th>FID</th>\n",
       "    </tr>\n",
       "    <tr>\n",
       "      <th>dummy</th>\n",
       "      <th></th>\n",
       "      <th></th>\n",
       "    </tr>\n",
       "  </thead>\n",
       "  <tbody>\n",
       "    <tr>\n",
       "      <th>1</th>\n",
       "      <td>MULTIPOLYGON (((44.44686 40.12255, 44.44415 40...</td>\n",
       "      <td>0</td>\n",
       "    </tr>\n",
       "  </tbody>\n",
       "</table>\n",
       "</div>"
      ],
      "text/plain": [
       "                                                geometry  FID\n",
       "dummy                                                        \n",
       "1      MULTIPOLYGON (((44.44686 40.12255, 44.44415 40...    0"
      ]
     },
     "execution_count": 8,
     "metadata": {},
     "output_type": "execute_result"
    }
   ],
   "source": [
    "df"
   ]
  },
  {
   "cell_type": "code",
   "execution_count": 9,
   "id": "a48c4e02",
   "metadata": {},
   "outputs": [],
   "source": [
    "# Step 1: Project to a CRS in meters\n",
    "df_meters = df.to_crs(epsg=3857)  # Web Mercator (meters)\n",
    "\n",
    "# Step 2: Apply a 500-meter buffer\n",
    "df_buffered = df_meters.buffer(1500)\n",
    "\n",
    "# Step 3: Optional - Convert back to original CRS (4326)\n",
    "df = gpd.GeoDataFrame(geometry=df_buffered, crs=df_meters.crs).to_crs(epsg=4326)"
   ]
  },
  {
   "cell_type": "code",
   "execution_count": 10,
   "id": "36e21326",
   "metadata": {},
   "outputs": [
    {
     "name": "stderr",
     "output_type": "stream",
     "text": [
      "C:\\Users\\Lenovo\\AppData\\Local\\Temp\\ipykernel_13532\\4209366313.py:1: UserWarning: Geometry is in a geographic CRS. Results from 'area' are likely incorrect. Use 'GeoSeries.to_crs()' to re-project geometries to a projected CRS before this operation.\n",
      "\n",
      "  df.geometry.area\n"
     ]
    },
    {
     "data": {
      "text/plain": [
       "dummy\n",
       "1    0.037305\n",
       "dtype: float64"
      ]
     },
     "execution_count": 10,
     "metadata": {},
     "output_type": "execute_result"
    }
   ],
   "source": [
    "df.geometry.area"
   ]
  },
  {
   "cell_type": "code",
   "execution_count": 12,
   "id": "4c04ba60-cad4-4aa8-b851-6e0c89454db6",
   "metadata": {},
   "outputs": [],
   "source": [
    "def make_grid(gdf, cell_width_m, cell_height_m):\n",
    "    bounds = gdf.total_bounds\n",
    "    min_x, min_y, max_x, max_y = bounds\n",
    "    width = max_x - min_x\n",
    "    height = max_y - min_y\n",
    "    \n",
    "    # Get the latitude at the center of the bounding box\n",
    "    center_lat = (min_y + max_y) / 2\n",
    "    \n",
    "    # Convert cell width and height from meters to degrees\n",
    "    cell_width = cell_width_m / distance((center_lat, min_x), (center_lat, min_x + 1)).meters\n",
    "    cell_height = cell_height_m / distance((min_y, center_lat), (min_y + 1, center_lat)).meters\n",
    "\n",
    "    rows = int(math.ceil(height / cell_height))\n",
    "    cols = int(math.ceil(width / cell_width))\n",
    "\n",
    "    grid_cells = []\n",
    "    for i in range(cols):\n",
    "        for j in range(rows):\n",
    "            x1 = min_x + i * cell_width\n",
    "            y1 = min_y + j * cell_height\n",
    "            x2 = x1 + cell_width\n",
    "            y2 = y1 + cell_height\n",
    "            grid_cells.append(box(x1, y1, x2, y2))\n",
    "    \n",
    "    grid = gpd.GeoDataFrame(grid_cells, columns=['geometry'], crs=gdf.crs)\n",
    "    return grid\n",
    "\n",
    "# Define the cell width and height in meters\n",
    "cell_width_m = 545  # Corrected width\n",
    "cell_height_m = 305  # Height remains the same\n",
    "\n",
    "# Create the grid\n",
    "grid = make_grid(df, cell_width_m, cell_height_m)\n",
    "\n",
    "# Clip the grid to the city boundary\n",
    "grid_clipped = gpd.clip(grid, df)"
   ]
  },
  {
   "cell_type": "code",
   "execution_count": 13,
   "id": "51bef4e6",
   "metadata": {},
   "outputs": [],
   "source": [
    "grid_clipped[\"Index\"]=range(0,len(grid_clipped))"
   ]
  },
  {
   "cell_type": "code",
   "execution_count": 15,
   "id": "33a92d0a",
   "metadata": {},
   "outputs": [
    {
     "data": {
      "text/html": [
       "<div>\n",
       "<style scoped>\n",
       "    .dataframe tbody tr th:only-of-type {\n",
       "        vertical-align: middle;\n",
       "    }\n",
       "\n",
       "    .dataframe tbody tr th {\n",
       "        vertical-align: top;\n",
       "    }\n",
       "\n",
       "    .dataframe thead th {\n",
       "        text-align: right;\n",
       "    }\n",
       "</style>\n",
       "<table border=\"1\" class=\"dataframe\">\n",
       "  <thead>\n",
       "    <tr style=\"text-align: right;\">\n",
       "      <th></th>\n",
       "      <th>geometry</th>\n",
       "      <th>Index</th>\n",
       "    </tr>\n",
       "  </thead>\n",
       "  <tbody>\n",
       "    <tr>\n",
       "      <th>2084</th>\n",
       "      <td>POLYGON ((44.56442 40.06911, 44.56528 40.06911...</td>\n",
       "      <td>0</td>\n",
       "    </tr>\n",
       "    <tr>\n",
       "      <th>2085</th>\n",
       "      <td>POLYGON ((44.56442 40.06911, 44.56442 40.07185...</td>\n",
       "      <td>1</td>\n",
       "    </tr>\n",
       "    <tr>\n",
       "      <th>2086</th>\n",
       "      <td>POLYGON ((44.56442 40.07185, 44.56442 40.07460...</td>\n",
       "      <td>2</td>\n",
       "    </tr>\n",
       "    <tr>\n",
       "      <th>2087</th>\n",
       "      <td>POLYGON ((44.56442 40.07460, 44.56442 40.07735...</td>\n",
       "      <td>3</td>\n",
       "    </tr>\n",
       "    <tr>\n",
       "      <th>2088</th>\n",
       "      <td>POLYGON ((44.56442 40.07735, 44.56442 40.08009...</td>\n",
       "      <td>4</td>\n",
       "    </tr>\n",
       "    <tr>\n",
       "      <th>...</th>\n",
       "      <td>...</td>\n",
       "      <td>...</td>\n",
       "    </tr>\n",
       "    <tr>\n",
       "      <th>2238</th>\n",
       "      <td>POLYGON ((44.57081 40.26961, 44.57081 40.27026...</td>\n",
       "      <td>2250</td>\n",
       "    </tr>\n",
       "    <tr>\n",
       "      <th>1918</th>\n",
       "      <td>POLYGON ((44.55162 40.27236, 44.55162 40.26961...</td>\n",
       "      <td>2251</td>\n",
       "    </tr>\n",
       "    <tr>\n",
       "      <th>1999</th>\n",
       "      <td>POLYGON ((44.55162 40.27236, 44.55162 40.27267...</td>\n",
       "      <td>2252</td>\n",
       "    </tr>\n",
       "    <tr>\n",
       "      <th>1919</th>\n",
       "      <td>POLYGON ((44.55162 40.27236, 44.54889 40.27236...</td>\n",
       "      <td>2253</td>\n",
       "    </tr>\n",
       "    <tr>\n",
       "      <th>1838</th>\n",
       "      <td>POLYGON ((44.54522 40.26961, 44.53883 40.26961...</td>\n",
       "      <td>2254</td>\n",
       "    </tr>\n",
       "  </tbody>\n",
       "</table>\n",
       "<p>2255 rows × 2 columns</p>\n",
       "</div>"
      ],
      "text/plain": [
       "                                               geometry  Index\n",
       "2084  POLYGON ((44.56442 40.06911, 44.56528 40.06911...      0\n",
       "2085  POLYGON ((44.56442 40.06911, 44.56442 40.07185...      1\n",
       "2086  POLYGON ((44.56442 40.07185, 44.56442 40.07460...      2\n",
       "2087  POLYGON ((44.56442 40.07460, 44.56442 40.07735...      3\n",
       "2088  POLYGON ((44.56442 40.07735, 44.56442 40.08009...      4\n",
       "...                                                 ...    ...\n",
       "2238  POLYGON ((44.57081 40.26961, 44.57081 40.27026...   2250\n",
       "1918  POLYGON ((44.55162 40.27236, 44.55162 40.26961...   2251\n",
       "1999  POLYGON ((44.55162 40.27236, 44.55162 40.27267...   2252\n",
       "1919  POLYGON ((44.55162 40.27236, 44.54889 40.27236...   2253\n",
       "1838  POLYGON ((44.54522 40.26961, 44.53883 40.26961...   2254\n",
       "\n",
       "[2255 rows x 2 columns]"
      ]
     },
     "execution_count": 15,
     "metadata": {},
     "output_type": "execute_result"
    }
   ],
   "source": [
    "grid_clipped"
   ]
  },
  {
   "cell_type": "code",
   "execution_count": null,
   "id": "7636d5f8-59fc-478d-87d0-97cc6c66a108",
   "metadata": {},
   "outputs": [],
   "source": [
    "grid_clipped.to_file(\"../data/yerevan_grid.geojson\",driver=\"GeoJSON\")"
   ]
  }
 ],
 "metadata": {
  "kernelspec": {
   "display_name": "Python 3",
   "language": "python",
   "name": "python3"
  },
  "language_info": {
   "codemirror_mode": {
    "name": "ipython",
    "version": 3
   },
   "file_extension": ".py",
   "mimetype": "text/x-python",
   "name": "python",
   "nbconvert_exporter": "python",
   "pygments_lexer": "ipython3",
   "version": "3.11.9"
  }
 },
 "nbformat": 4,
 "nbformat_minor": 5
}
